{
 "cells": [
  {
   "cell_type": "markdown",
   "id": "dacf74e6",
   "metadata": {},
   "source": [
    "# NumPy"
   ]
  },
  {
   "cell_type": "markdown",
   "id": "01b2bf34",
   "metadata": {},
   "source": [
    "Read the links: https://numpy.org/doc/stable/user/quickstart.html  and https://numpy.org/doc/stable/user/basics.broadcasting.html  before solving the exercises. "
   ]
  },
  {
   "cell_type": "code",
   "execution_count": 4,
   "id": "1f79e4a6",
   "metadata": {},
   "outputs": [],
   "source": [
    "import numpy as np"
   ]
  },
  {
   "cell_type": "markdown",
   "id": "7dae6889",
   "metadata": {},
   "source": [
    "### Print out the dimension (number of axes), shape, size and the datatype of the matrix A."
   ]
  },
  {
   "cell_type": "code",
   "execution_count": 6,
   "id": "7b3678cd",
   "metadata": {},
   "outputs": [],
   "source": [
    "A = np.arange(1, 16).reshape(3,5)"
   ]
  },
  {
   "cell_type": "code",
   "execution_count": 7,
   "id": "e9f5bb27-57bd-45d9-b360-95851a432a11",
   "metadata": {},
   "outputs": [
    {
     "name": "stdout",
     "output_type": "stream",
     "text": [
      "The array dimension is 2.\n",
      "The shape of the array is 3 columns and 5 rows.\n",
      "The array size is 15.\n",
      "The array datatype is integers, int64.\n"
     ]
    }
   ],
   "source": [
    "print(f'The array dimension is {A.ndim}.')\n",
    "print(f'The shape of the array is {A.shape[0]} columns and {A.shape[1]} rows.')\n",
    "print(f'The array size is {A.size}.')\n",
    "print(f'The array datatype is integers, {A.dtype.name}.')"
   ]
  },
  {
   "cell_type": "markdown",
   "id": "e56d2a96",
   "metadata": {},
   "source": [
    "### Do the following computations on the matrices B and C: \n",
    "* Elementwise subtraction. \n",
    "* Elementwise multiplication. \n",
    "* Matrix multiplication (by default you should use the @ operator)."
   ]
  },
  {
   "cell_type": "code",
   "execution_count": 9,
   "id": "a7053fbb",
   "metadata": {},
   "outputs": [
    {
     "name": "stdout",
     "output_type": "stream",
     "text": [
      "[[1 2 3]\n",
      " [4 5 6]\n",
      " [7 8 9]]\n",
      "\n",
      "[[2. 2. 2.]\n",
      " [2. 2. 2.]\n",
      " [2. 2. 2.]]\n"
     ]
    }
   ],
   "source": [
    "B = np.arange(1, 10).reshape(3, 3)\n",
    "C = np.ones((3, 3))*2\n",
    "\n",
    "print(B)\n",
    "print()\n",
    "print(C)"
   ]
  },
  {
   "cell_type": "code",
   "execution_count": 10,
   "id": "3cd794ae",
   "metadata": {},
   "outputs": [
    {
     "name": "stdout",
     "output_type": "stream",
     "text": [
      "Elementwise subtraction\n",
      "[[-1.  0.  1.]\n",
      " [ 2.  3.  4.]\n",
      " [ 5.  6.  7.]]\n",
      "\n",
      "Elementwise multiplication\n",
      "[[ 2.  4.  6.]\n",
      " [ 8. 10. 12.]\n",
      " [14. 16. 18.]]\n",
      "\n",
      "Matrix multiplication\n",
      "[[12. 12. 12.]\n",
      " [30. 30. 30.]\n",
      " [48. 48. 48.]]\n"
     ]
    }
   ],
   "source": [
    "print('Elementwise subtraction')\n",
    "print(B - C)\n",
    "print()\n",
    "print('Elementwise multiplication')\n",
    "print(B * C)\n",
    "print()\n",
    "print('Matrix multiplication')  #(1*2)+(2*2)+(3*2)=12 in first row, first column\n",
    "print(B @ C)"
   ]
  },
  {
   "cell_type": "markdown",
   "id": "96030d53",
   "metadata": {},
   "source": [
    "### Do the following calculations on the matrix:\n",
    "* Exponentiate each number elementwise (use the np.exp function).\n",
    "\n",
    "* Calculate the minimum value in the whole matrix. \n",
    "* Calculcate the minimum value in each row. \n",
    "* Calculcate the minimum value in each column. \n",
    "\n",
    "\n",
    "* Find the index value for the minimum value in the whole matrix (hint: use np.argmin).\n",
    "* Find the index value for the minimum value in each row (hint: use np.argmin).\n",
    "\n",
    "\n",
    "* Calculate the sum for all elements.\n",
    "* Calculate the mean for each column. \n",
    "* Calculate the median for each column. "
   ]
  },
  {
   "cell_type": "code",
   "execution_count": 12,
   "id": "f8a9166b",
   "metadata": {},
   "outputs": [
    {
     "name": "stdout",
     "output_type": "stream",
     "text": [
      "[[1 2 3]\n",
      " [4 5 6]\n",
      " [7 8 9]]\n"
     ]
    }
   ],
   "source": [
    "B = np.arange(1, 10).reshape(3, 3)\n",
    "print(B)"
   ]
  },
  {
   "cell_type": "code",
   "execution_count": 13,
   "id": "afd8e015-9130-4c2b-ae7d-034804f355b9",
   "metadata": {},
   "outputs": [
    {
     "name": "stdout",
     "output_type": "stream",
     "text": [
      "[[2.71828183e+00 7.38905610e+00 2.00855369e+01]\n",
      " [5.45981500e+01 1.48413159e+02 4.03428793e+02]\n",
      " [1.09663316e+03 2.98095799e+03 8.10308393e+03]]\n",
      "\n",
      "Minimum value in array is 1\n",
      "Minimum value in each row is [1 4 7]\n",
      "Minimum value in each column is [1 2 3]\n",
      "Index for minimum value is 0.\n",
      "Index for minimum value in each row is [0 0 0].\n",
      "The sum of all elements is 45.\n",
      "The mean for each column is [4. 5. 6.].\n",
      "The median for each column is [4. 5. 6.]\n"
     ]
    }
   ],
   "source": [
    "print(np.exp(B))\n",
    "print()\n",
    "print(f'Minimum value in array is {B.min()}')\n",
    "print(f'Minimum value in each row is {B.min(axis = 1)}')\n",
    "print(f'Minimum value in each column is {B.min(axis = 0)}')\n",
    "print(f'Index for minimum value is {B.argmin()}.')\n",
    "print(f'Index for minimum value in each row is {B.argmin(axis=1)}.')\n",
    "print(f'The sum of all elements is {B.sum()}.')\n",
    "print(f'The mean for each column is {B.mean(axis = 0)}.')\n",
    "print(f'The median for each column is {np.median(B, axis=0)}')"
   ]
  },
  {
   "cell_type": "markdown",
   "id": "541eb7ba",
   "metadata": {},
   "source": [
    "### What does it mean when you provide fewer indices than axes when slicing? See example below."
   ]
  },
  {
   "cell_type": "code",
   "execution_count": 15,
   "id": "9c8abf56",
   "metadata": {},
   "outputs": [
    {
     "name": "stdout",
     "output_type": "stream",
     "text": [
      "[[ 1  2  3  4  5]\n",
      " [ 6  7  8  9 10]\n",
      " [11 12 13 14 15]]\n"
     ]
    }
   ],
   "source": [
    "print(A)"
   ]
  },
  {
   "cell_type": "code",
   "execution_count": 16,
   "id": "69415f7b",
   "metadata": {},
   "outputs": [
    {
     "data": {
      "text/plain": [
       "array([ 6,  7,  8,  9, 10])"
      ]
     },
     "execution_count": 16,
     "metadata": {},
     "output_type": "execute_result"
    }
   ],
   "source": [
    "A[1]"
   ]
  },
  {
   "cell_type": "markdown",
   "id": "6c53541b",
   "metadata": {},
   "source": [
    "**Answer:**"
   ]
  },
  {
   "cell_type": "markdown",
   "id": "7fa46c2d-5ec8-49af-ad4e-f0134d9d7f08",
   "metadata": {},
   "source": [
    "fewer indices then number of axes -> missing indicies = complete slices, A[1] = A[1, 0:2] = A[1, :]"
   ]
  },
  {
   "cell_type": "markdown",
   "id": "6652d0c9",
   "metadata": {},
   "source": [
    "### Iterating over multidimensional arrays is done with respect to the first axis, so in the example below we iterate trough the rows. If you would like to iterate through the array *elementwise*, how would you do that?"
   ]
  },
  {
   "cell_type": "code",
   "execution_count": 20,
   "id": "9459864f",
   "metadata": {},
   "outputs": [
    {
     "data": {
      "text/plain": [
       "array([[ 1,  2,  3,  4,  5],\n",
       "       [ 6,  7,  8,  9, 10],\n",
       "       [11, 12, 13, 14, 15]])"
      ]
     },
     "execution_count": 20,
     "metadata": {},
     "output_type": "execute_result"
    }
   ],
   "source": [
    "A"
   ]
  },
  {
   "cell_type": "code",
   "execution_count": 21,
   "id": "a671bb5a",
   "metadata": {},
   "outputs": [
    {
     "name": "stdout",
     "output_type": "stream",
     "text": [
      "[1 2 3 4 5]\n",
      "[ 6  7  8  9 10]\n",
      "[11 12 13 14 15]\n"
     ]
    }
   ],
   "source": [
    "for i in A:\n",
    "    print(i)"
   ]
  },
  {
   "cell_type": "code",
   "execution_count": 22,
   "id": "f4e443a0",
   "metadata": {},
   "outputs": [
    {
     "name": "stdout",
     "output_type": "stream",
     "text": [
      "1\n",
      "2\n",
      "3\n",
      "4\n",
      "5\n",
      "6\n",
      "7\n",
      "8\n",
      "9\n",
      "10\n",
      "11\n",
      "12\n",
      "13\n",
      "14\n",
      "15\n"
     ]
    }
   ],
   "source": [
    "for i in A.flat:\n",
    "    print(i)"
   ]
  },
  {
   "cell_type": "markdown",
   "id": "608a2583",
   "metadata": {},
   "source": [
    "### Explain what the code below does. More specifically, b has three axes - what does this mean? "
   ]
  },
  {
   "cell_type": "code",
   "execution_count": 24,
   "id": "f8f9b26f",
   "metadata": {},
   "outputs": [
    {
     "name": "stdout",
     "output_type": "stream",
     "text": [
      "[ 0  1  2  3  4  5  6  7  8  9 10 11 12 13 14 15 16 17 18 19 20 21 22 23\n",
      " 24 25 26 27 28 29]\n",
      "\n",
      "[[[ 0  1  2  3  4]\n",
      "  [ 5  6  7  8  9]\n",
      "  [10 11 12 13 14]]\n",
      "\n",
      " [[15 16 17 18 19]\n",
      "  [20 21 22 23 24]\n",
      "  [25 26 27 28 29]]]\n"
     ]
    }
   ],
   "source": [
    "a = np.arange(30)\n",
    "b = a.reshape((2, 3, -1))\n",
    "print(a)\n",
    "print()\n",
    "print(b)"
   ]
  },
  {
   "cell_type": "markdown",
   "id": "872fa491-71fd-419b-a257-ee74da59ef65",
   "metadata": {},
   "source": [
    "Creates integers from 0 to 29 assigned to variable a.\n",
    "b is a reshape from 1D array to a 3D array with the dimension 2x3x5 (doesn't change array a)\n",
    "Specified \"2\" first dimension\n",
    "Specified \"3\" second dimension\n",
    "Specified \"-1\" automated calculation to fit all elements.\n"
   ]
  },
  {
   "cell_type": "markdown",
   "id": "421c9607-819a-401d-949a-97424436fe29",
   "metadata": {},
   "source": [
    "# For the exercises below, read the document *\"matematik_yh_antonio_vektorer_matriser_utdrag\"*\n",
    "# Solutions to the exercises and recorded videos can be found here: https://github.com/AntonioPrgomet/matematik_foer_yh\n",
    "\n",
    "# If you find the exercises below very hard, do not worry. Try your best, that will be enough. "
   ]
  },
  {
   "cell_type": "markdown",
   "id": "ab5933d5",
   "metadata": {},
   "source": [
    "### Broadcasting\n",
    "**Read the following link about broadcasting: https://numpy.org/doc/stable/user/basics.broadcasting.html#basics-broadcasting**"
   ]
  },
  {
   "cell_type": "markdown",
   "id": "039805ba",
   "metadata": {},
   "source": [
    "# Remark on Broadcasting when doing Linear Algebra calculations in Python. "
   ]
  },
  {
   "cell_type": "markdown",
   "id": "c4bcc147",
   "metadata": {},
   "source": [
    "### From the mathematical rules of matrix addition, the operation below (m1 + m2) does not make sense. The reason is that matrix addition requires two matrices of the same size. In Python however, it works due to broadcasting rules in NumPy. So you must be careful when doing Linear Algebra calculations in Python since they do not follow the \"mathematical rules\". This can however easily be handled by doing some simple programming, for example validating that two matrices have the same shape is easy if you for instance want to add two matrices. "
   ]
  },
  {
   "cell_type": "code",
   "execution_count": 30,
   "id": "1fd46778",
   "metadata": {},
   "outputs": [
    {
     "name": "stdout",
     "output_type": "stream",
     "text": [
      "[[2 3]\n",
      " [4 5]]\n",
      "\n",
      "(2, 2)\n",
      "(2,)\n"
     ]
    }
   ],
   "source": [
    "m1 = np.array([[1, 2], [3, 4]])\n",
    "m2 = np.array([1, 1])\n",
    "print(m1 + m2)\n",
    "print()\n",
    "print(m1.shape)\n",
    "print(m2.shape)"
   ]
  },
  {
   "cell_type": "markdown",
   "id": "047d6576",
   "metadata": {},
   "source": [
    "### The example below would also not be allowed if following the \"mathematical rules\" in Linear Algebra. But it works due to broadcasting in NumPy. "
   ]
  },
  {
   "cell_type": "code",
   "execution_count": 32,
   "id": "5e6ef2e4",
   "metadata": {},
   "outputs": [
    {
     "name": "stdout",
     "output_type": "stream",
     "text": [
      "[2 3 4]\n"
     ]
    }
   ],
   "source": [
    "v1 = np.array([1, 2, 3])\n",
    "print(v1 + 1)"
   ]
  },
  {
   "cell_type": "code",
   "execution_count": 33,
   "id": "e2cbae26",
   "metadata": {},
   "outputs": [
    {
     "name": "stdout",
     "output_type": "stream",
     "text": [
      "[[1 2]\n",
      " [3 4]]\n",
      "[2 2]\n"
     ]
    }
   ],
   "source": [
    "A = np.arange(1, 5).reshape(2,2)\n",
    "print(A)\n",
    "\n",
    "b = np.array([2, 2])\n",
    "print(b)"
   ]
  },
  {
   "cell_type": "markdown",
   "id": "722fd5cd",
   "metadata": {},
   "source": [
    "# Vector- and matrix algebra Exercises"
   ]
  },
  {
   "cell_type": "markdown",
   "id": "b63a3081-d976-4d9f-bfd0-a63917e79f7d",
   "metadata": {},
   "source": [
    "**Now you are going to create a function that can be reused every time you add or multiply matrices. The function is created so that we do the addition and multiplication according to the rules of vector- and matrix algebra.**\n",
    "\n",
    "**Create a function \"add_mult_matrices\" that takes two matrices as input arguments (validate that the input are of the type numpy.ndarray by using the isinstance function), a third argument that is either 'add' or 'multiply' that specifies if you want to add or multiply the matrices (validate that the third argument is either 'add' or 'multiply'). When doing matrix addition, validate that the matrices have the same size. When doing matrix multiplication, validate that the sizes conform (i.e. number of columns in the first matrix is equal to the number of rows in the second matrix).**"
   ]
  },
  {
   "cell_type": "code",
   "execution_count": 36,
   "id": "3506f977-ac0a-473f-85bc-eec9f35dc498",
   "metadata": {},
   "outputs": [],
   "source": [
    "import numpy as np\n",
    "\n",
    "def add_mult_matrices(matrix1, matrix2, op):\n",
    "    #Validation\n",
    "    if not isinstance(matrix1, np.ndarray) or not isinstance(matrix2, np.ndarray):\n",
    "        raise TypeError ('Both matrices must be numpy array objects')\n",
    "    if op not in ['add', 'multiply']:\n",
    "        raise ValueError('Operation must be \"add\" or \"multiply\"')\n",
    "\n",
    "    if op == 'add':\n",
    "        #Validate that matrices dimensions\n",
    "        if matrix1.shape != matrix2.shape:\n",
    "            raise ValueError ('For addition the matrices must have the same dimensions')\n",
    "        return matrix1 + matrix2\n",
    "\n",
    "    else:  #op == 'multiply'\n",
    "        if matrix1.shape[1] != matrix2.shape[0]:\n",
    "            raise ValueError ('For multiplication, the number of columns in array 1 must equal number of rows in the second array')\n",
    "        return matrix1 @ matrix2  #For element-wise multiplication use \"return matrix1 * matrix2\"\n",
    "    "
   ]
  },
  {
   "cell_type": "markdown",
   "id": "8dad82d0-2359-4dff-8f5b-a57d3e34103c",
   "metadata": {},
   "source": [
    "### Solve all the exercises in chapter 10.1 in the book \"Matematik för yrkeshögskolan\". "
   ]
  },
  {
   "cell_type": "markdown",
   "id": "1e087583-f927-4a39-8033-22dc45d649eb",
   "metadata": {},
   "source": [
    "10.1.1\n",
    "\n",
    "a) 1x2\n",
    "b) 5x = 5(4, 3) = (20, 15)\n",
    "c) 3x = 3(4, 3) = (12, 9)\n",
    "d) 5x + 3x = (20, 15) + (12, 9) = (32, 24)\n",
    "e) 8x = 8(4, 3) = (32, 24)\n",
    "f) 4x -x = 4(4, 3) - (4, 3) = (16, 12) - (4, 3) = ((16-4) - (12 - 3)) = (12, 9)\n",
    "g) xT = 2x1\n",
    "h) No, different dimension. 1x2 and 2x1.\n",
    "i) ||x|| = (4^2 + 3^2)^0.5 = 25^0.5 = 5"
   ]
  },
  {
   "cell_type": "markdown",
   "id": "76d0c929-2370-430c-9db2-ea37b09cbb5b",
   "metadata": {},
   "source": [
    "10.1.2\n",
    "\n",
    "a) 4x1\n",
    "\n",
    "b) 2vT = (2x3, 2x7, 2x0, 2x11) = (6, 14, 0, 22) -> 2v = (6 \n",
    "                                                        14 \n",
    "                                                         0 \n",
    "                                                        22)\n",
    "                                                        \n",
    "c) 5v + 2v = 7v = (7x3 = (21\n",
    "                   7x7    49\n",
    "                   7x0     0\n",
    "                   7x11)  77)\n",
    "                   \n",
    "d) 4v - 2v = 2v = (6\n",
    "                   14\n",
    "                   0\n",
    "                   22)\n",
    "                   \n",
    "e) vT = (3, 7, 0, 11), Dimension 1x4\n",
    "\n",
    "f) ||vT|| = (3^2 + 7^2 + 0^2 + 11^2)^0.5 = 13.38 aprox"
   ]
  },
  {
   "cell_type": "markdown",
   "id": "d35d220b-0261-4329-b768-ba5801dfde85",
   "metadata": {},
   "source": [
    "10.1.3\n",
    "\n",
    "a) ||v1|| = (4^2 + 3^2 + 1^2 + 5^2)^0.5 = (51)^0.5 = 7.14 aprox\n",
    "b) ||v1 - v2|| = ((4-2)^2 + (3-3)^2 + (1-1)^2 + (5-1)^2)^0.5 = 20^0.5 = 4.47 aprox"
   ]
  },
  {
   "cell_type": "markdown",
   "id": "75c98984-1f88-4df1-b850-d2466de444a5",
   "metadata": {},
   "source": [
    "### Solve all the exercises, except 10.2.4, in chapter 10.2 in the book \"Matematik för yrkeshögskolan\". "
   ]
  },
  {
   "cell_type": "markdown",
   "id": "b4ed475c-b2c4-498a-9de6-9293ff3bd8be",
   "metadata": {},
   "source": [
    "10.2.1\n",
    "\n",
    "a) 2A = 4  2 -2\n",
    "        2 -2 -2\n",
    "\n",
    "b) B - 2A = 4 -2 -1 - 4  2 -2 = 0 -4  3\n",
    "            2 -4 -2   2 -2 -2   0 -2 -4\n",
    "\n",
    "c) Ej def\n",
    "\n",
    "d) 2D - 3C = 6 8 - 3 6 = 3 2\n",
    "             8 6   6 3   2 3\n",
    "\n",
    "e) DT + 2D = 3 4 + 6 8 = 9 12\n",
    "             4 3   8 6   12 9\n",
    "\n",
    "f) 2CT - 2DT = 2(1 2) - 2(3 4) = 2 4 - 6 8 = -4 -4\n",
    "                 2 1      4 3    4 2   8 6   -4 -4\n",
    "\n",
    "g) AT har dimension 3x2 och B har dimension 2x3 -> Ej def\n",
    "\n",
    "h) AC -> A har dim 2x3 och C har dim 2x2, 3 != 2 -> Ej def\n",
    "\n",
    "i) CD = (1 2)  (3 4) = 1x3+2x4 1x4+2x3 = 11 10\n",
    "         2 1    4 3    2x3+1x4 2x4+1x3   10 11\n",
    "\n",
    "j) CB = (1 2) (4 -2  1) = ((1x4 + 2x2)  (-2+(-8))  (1+(-4)) = 8 -10 -3  Dimension 2x3\n",
    "         2 1   2 -4 -2     (2x4 + 1x2    -4+(-4)    2+(-2)   10  -8  0\n",
    "\n",
    "k) CI = (1 2)  (1 0) = ((1x1 + 2x0)  (1x0 + 2x1) = 1 2\n",
    "         2 1    0 1      2x1 + 1x0    2x0 + 1x1    2 1\n",
    "\n",
    "l) A dim = 2x3, BT dim = 3x2 -> Def och dim kommer bli 2x2\n",
    "\n",
    "   ABT = (2  1 -1) (4  2) = 2x4 +   1x(-2)  + (-1)x1   2x2 + 1x(-4)    + (-1)x(-2) = 5 2\n",
    "          1 -1  1  -2 -4    1x4 + (-1)x(-2) +  1x1     1x2 + (-1)x(-4) + 1x(-2)      7 4\n",
    "                    1 -2"
   ]
  },
  {
   "cell_type": "markdown",
   "id": "83178909-b658-4231-be1c-eca64c09c7db",
   "metadata": {},
   "source": [
    "# **10.2.1 med funktionen add_mult_matrices"
   ]
  },
  {
   "cell_type": "code",
   "execution_count": 44,
   "id": "064c1502-e326-40f3-88b0-56ff85f6db2b",
   "metadata": {},
   "outputs": [
    {
     "name": "stdout",
     "output_type": "stream",
     "text": [
      "10.2.1.a:\n",
      "[[ 4  2 -2]\n",
      " [ 2 -2  2]]\n",
      "\n",
      "10.2.1.b:\n",
      "[[ 0 -4  3]\n",
      " [ 0 -2 -4]]\n",
      "\n",
      "10.2.1.c:\n",
      "\n",
      "10.2.1.d:\n",
      "[[3 2]\n",
      " [2 3]]\n",
      "\n",
      "10.2.1.e:\n",
      "[[ 9 12]\n",
      " [12  9]]\n",
      "\n",
      "10.2.1.f:\n",
      "[[-4 -4]\n",
      " [-4 -4]]\n",
      "\n",
      "10.2.1.g:\n",
      "\n",
      "10.2.1.h:\n",
      "\n",
      "10.2.1.i:\n",
      "[[11 10]\n",
      " [10 11]]\n",
      "\n",
      "10.2.1.j:\n",
      "[[  8 -10  -3]\n",
      " [ 10  -8   0]]\n",
      "\n",
      "10.2.1.k:\n",
      "[[1 2]\n",
      " [2 1]]\n",
      "\n",
      "10.2.1.l:\n",
      "[[5 2]\n",
      " [7 4]]\n"
     ]
    }
   ],
   "source": [
    "import numpy as np\n",
    "A = np.array([[2, 1, -1], [1, -1, 1]])\n",
    "B = np.array([[4, -2, 1], [2, -4, -2]])\n",
    "C = np.array([[1, 2], [2, 1]])\n",
    "D = np.array([[3, 4], [4, 3]])\n",
    "E = np.array([1, 2])\n",
    "I = np.array([[1, 0], [0, 1]])\n",
    "\n",
    "print('10.2.1.a:')\n",
    "print(add_mult_matrices(A, A, 'add'))\n",
    "print()\n",
    "print('10.2.1.b:')\n",
    "print(add_mult_matrices(B, -2*A, 'add'))\n",
    "print()\n",
    "print('10.2.1.c:')\n",
    "print()\n",
    "print('10.2.1.d:')\n",
    "print(add_mult_matrices(2*D, -3*C, 'add'))\n",
    "print()\n",
    "print('10.2.1.e:')\n",
    "print(add_mult_matrices(D.T, 2*D, 'add'))\n",
    "print()\n",
    "print('10.2.1.f:')\n",
    "print(add_mult_matrices(2*C.T,-2*D.T,'add'))\n",
    "print()\n",
    "print('10.2.1.g:')\n",
    "print()\n",
    "print('10.2.1.h:')\n",
    "print()\n",
    "print('10.2.1.i:')\n",
    "print(add_mult_matrices(C, D, 'multiply'))\n",
    "print()\n",
    "print('10.2.1.j:')\n",
    "print(add_mult_matrices(C, B, 'multiply'))\n",
    "print()\n",
    "print('10.2.1.k:')\n",
    "print(add_mult_matrices(C, I, 'multiply'))\n",
    "print()\n",
    "print('10.2.1.l:')\n",
    "print(add_mult_matrices(A, B.T, 'multiply'))"
   ]
  },
  {
   "cell_type": "code",
   "execution_count": null,
   "id": "771868fd-cf7c-4682-9b6e-0305a5593963",
   "metadata": {},
   "outputs": [],
   "source": []
  },
  {
   "cell_type": "markdown",
   "id": "086401e4-16ae-4892-9614-5850da6b1df4",
   "metadata": {},
   "source": [
    "# 10.2.2  manuell\n",
    "\n",
    "AAT = 2 3 4  2 5 = 2x2 + 3x3 + 4x4   2x5 + 3x4 + 4x1 = 29 26\n",
    "      5 4 1  3 4   5x2 + 4x3 + 1x4   5x5 + 4x4 + 1x1   26 42\n",
    "             4 1"
   ]
  },
  {
   "cell_type": "code",
   "execution_count": 46,
   "id": "e4a366bd-12d3-4a7a-b8c5-584db2f88426",
   "metadata": {},
   "outputs": [
    {
     "name": "stdout",
     "output_type": "stream",
     "text": [
      "[[29 26]\n",
      " [26 42]]\n"
     ]
    }
   ],
   "source": [
    "# 10.2.2 med funktionen\n",
    "A = np.array([[2, 3, 4], [5, 4, 1]])\n",
    "print(add_mult_matrices(A, A.T, 'multiply'))"
   ]
  },
  {
   "cell_type": "markdown",
   "id": "8edb5189-230a-4f26-8c74-d7b0268c1eef",
   "metadata": {},
   "source": [
    "# 10.2.3 manuell\n",
    "\n",
    "AB = 1x2 + 2x1  1x1 + 2x3 = 4 7\n",
    "     2x2 + 4x1  2x1 + 4x3   8 14\n",
    "\n",
    "AC = 1x4 + 2x0  1x3 + 2x2 = 4 7\n",
    "     2x4 + 4x0  2x3 + 4x2   8 14\n",
    "\n",
    "BC = 2x4 + 1x0  2x3 + 1x2 = 8 8\n",
    "     1x4 + 3x0  1x3 + 3x2   4 9\n",
    "-> V.S.B."
   ]
  },
  {
   "cell_type": "code",
   "execution_count": 48,
   "id": "44b63586-f5e0-4522-b17a-903ecae53b7a",
   "metadata": {},
   "outputs": [
    {
     "name": "stdout",
     "output_type": "stream",
     "text": [
      "AB:\n",
      "[[ 4  7]\n",
      " [ 8 14]]\n",
      "\n",
      "AC:\n",
      "[[ 4  7]\n",
      " [ 8 14]]\n",
      "\n",
      "BC:\n",
      "[[8 8]\n",
      " [4 9]]\n",
      "\n",
      " AB = AC != BC, V.S.B\n"
     ]
    }
   ],
   "source": [
    "# 10.2.3 med funktionen\n",
    "A = np.array([[1, 2], [2, 4]])\n",
    "B = np.array([[2, 1], [1, 3]])\n",
    "C = np.array([[4, 3], [0, 2]])\n",
    "\n",
    "print('AB:')\n",
    "print(add_mult_matrices(A, B, 'multiply'))\n",
    "print()\n",
    "print('AC:')\n",
    "print(add_mult_matrices(A, C, 'multiply'))\n",
    "print()\n",
    "print('BC:')\n",
    "print(add_mult_matrices(B, C, 'multiply'))\n",
    "print()\n",
    "print(' AB = AC != BC, V.S.B')"
   ]
  },
  {
   "cell_type": "code",
   "execution_count": null,
   "id": "4ec3dce3-6a06-408e-942a-f07161dbcf00",
   "metadata": {},
   "outputs": [],
   "source": []
  },
  {
   "cell_type": "markdown",
   "id": "6a4a524f",
   "metadata": {},
   "source": [
    "### Copies and Views\n",
    "Read the following link: https://numpy.org/doc/stable/user/basics.copies.html"
   ]
  },
  {
   "cell_type": "markdown",
   "id": "6cbbeaf7",
   "metadata": {},
   "source": [
    "**Basic indexing creates a view, How can you check if v1 and v2 is a view or copy? If you change the last element in v2 to 123, will the last element in v1 be changed? Why?**"
   ]
  },
  {
   "cell_type": "code",
   "execution_count": 51,
   "id": "5b9ef4df",
   "metadata": {},
   "outputs": [
    {
     "name": "stdout",
     "output_type": "stream",
     "text": [
      "[0 1 2 3]\n",
      "[2 3]\n"
     ]
    }
   ],
   "source": [
    "v1 = np.arange(4)\n",
    "v2 = v1[-2:]\n",
    "print(v1)\n",
    "print(v2)"
   ]
  },
  {
   "cell_type": "code",
   "execution_count": 52,
   "id": "d2440489",
   "metadata": {},
   "outputs": [
    {
     "name": "stdout",
     "output_type": "stream",
     "text": [
      "None\n",
      "[0 1 2 3]\n"
     ]
    }
   ],
   "source": [
    "# The base attribute of a view returns the original array while it returns None for a copy.\n",
    "print(v1.base)\n",
    "print(v2.base)"
   ]
  },
  {
   "cell_type": "code",
   "execution_count": 53,
   "id": "c8752807",
   "metadata": {},
   "outputs": [
    {
     "name": "stdout",
     "output_type": "stream",
     "text": [
      "[  0   1   2 123]\n",
      "[  2 123]\n"
     ]
    }
   ],
   "source": [
    "# The last element in v1 will be changed aswell since v2 is a view, meaning they share the same data buffer.\n",
    "v2[-1] = 123\n",
    "print(v1)\n",
    "print(v2)"
   ]
  },
  {
   "cell_type": "markdown",
   "id": "d6693a44-aa81-4229-9eb6-19d8caa373d0",
   "metadata": {},
   "source": [
    "Check if v2.base returns the array 1, then it is a view and changes in v2 will also be made in v1."
   ]
  }
 ],
 "metadata": {
  "kernelspec": {
   "display_name": "Python [conda env:base] *",
   "language": "python",
   "name": "conda-base-py"
  },
  "language_info": {
   "codemirror_mode": {
    "name": "ipython",
    "version": 3
   },
   "file_extension": ".py",
   "mimetype": "text/x-python",
   "name": "python",
   "nbconvert_exporter": "python",
   "pygments_lexer": "ipython3",
   "version": "3.12.7"
  }
 },
 "nbformat": 4,
 "nbformat_minor": 5
}
